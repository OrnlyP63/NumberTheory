{
 "cells": [
  {
   "cell_type": "code",
   "execution_count": 1,
   "metadata": {},
   "outputs": [],
   "source": [
    "import gaussian_prime as gp\n",
    "import numpy as np\n",
    "import itertools"
   ]
  },
  {
   "cell_type": "code",
   "execution_count": 2,
   "metadata": {},
   "outputs": [],
   "source": [
    "def Norm(comp):\n",
    "    return int(comp.real**2 + comp.imag**2)"
   ]
  },
  {
   "cell_type": "code",
   "execution_count": 3,
   "metadata": {},
   "outputs": [],
   "source": [
    "def ComF(n,m):\n",
    "    Cof = []\n",
    "    for i in range(m):\n",
    "        for j in range(n):\n",
    "            c=i+j*1j\n",
    "            Cof.append(c)\n",
    "    #Cof = np.array(Cof).reshape(n,m)\n",
    "    return Cof"
   ]
  },
  {
   "cell_type": "code",
   "execution_count": 4,
   "metadata": {},
   "outputs": [],
   "source": [
    "def division(G):\n",
    "    #re = int(G.real)\n",
    "    #im = int(G.imag)\n",
    "    l=[]\n",
    "    n = gp.norm(G)\n",
    "    n = n//2 +1\n",
    "    for i in ComF(n,n)[1:]:\n",
    "        if gp.complex_modulus(G,i)==0:\n",
    "            l.append(i)\n",
    "    return l"
   ]
  },
  {
   "cell_type": "code",
   "execution_count": 5,
   "metadata": {},
   "outputs": [],
   "source": [
    "def is_prime(num):\n",
    "    if num > 1:\n",
    "        for i in range(2,num//2):\n",
    "            if (num % i) == 0:\n",
    "                return False\n",
    "                break\n",
    "        else:\n",
    "            return True\n",
    "        \n",
    "def Norm(comp):\n",
    "    return int(comp.real**2 + comp.imag**2)\n",
    "\n",
    "def is_gaussian_prime(comp):\n",
    "    return is_prime(Norm(comp))"
   ]
  },
  {
   "cell_type": "code",
   "execution_count": 6,
   "metadata": {},
   "outputs": [],
   "source": [
    "def Fibonacci(n):\n",
    "    init = [0,1]\n",
    "    for i in range(n):\n",
    "        f = init[-1]+init[-2]\n",
    "        init += [f]\n",
    "    return init"
   ]
  },
  {
   "cell_type": "code",
   "execution_count": 7,
   "metadata": {},
   "outputs": [
    {
     "data": {
      "text/plain": [
       "[0, 1, 1, 2, 3, 5, 8, 13, 21, 34, 55, 89]"
      ]
     },
     "execution_count": 7,
     "metadata": {},
     "output_type": "execute_result"
    }
   ],
   "source": [
    "Fibonacci(10)"
   ]
  },
  {
   "cell_type": "code",
   "execution_count": 8,
   "metadata": {},
   "outputs": [
    {
     "name": "stdout",
     "output_type": "stream",
     "text": [
      "2\n",
      "([(1+1j), (1+1j)], -1j)\n",
      "****************************************\n",
      "3\n",
      "([3], (1+0j))\n",
      "****************************************\n",
      "5\n",
      "([(2+1j), (2-1j)], (1+0j))\n",
      "****************************************\n",
      "13\n",
      "([(3+2j), (3-2j)], (1+0j))\n",
      "****************************************\n",
      "89\n",
      "([(5+8j), (5-8j)], (1-0j))\n",
      "****************************************\n",
      "233\n",
      "([(8+13j), (8-13j)], (1-0j))\n",
      "****************************************\n",
      "1597\n",
      "([(34+21j), (34-21j)], (1+0j))\n",
      "****************************************\n",
      "28657\n",
      "([(144+89j), (144-89j)], (1+0j))\n",
      "****************************************\n",
      "514229\n",
      "([(610+377j), (610-377j)], (1+0j))\n",
      "****************************************\n",
      "433494437\n",
      "([(17711+10946j), (17711-10946j)], (1+0j))\n",
      "****************************************\n"
     ]
    }
   ],
   "source": [
    "for n in Fibonacci(45)[2:]:\n",
    "    if is_prime(n):\n",
    "        print(n)\n",
    "        print(gp.factor_gaussian(n))\n",
    "        print('****************************************')"
   ]
  },
  {
   "cell_type": "code",
   "execution_count": 9,
   "metadata": {},
   "outputs": [
    {
     "data": {
      "text/plain": [
       "<Figure size 640x480 with 1 Axes>"
      ]
     },
     "metadata": {},
     "output_type": "display_data"
    }
   ],
   "source": [
    "import matplotlib.pyplot as plt\n",
    "C = [p for p in ComF(10,10) if is_gaussian_prime(p)]\n",
    "D = [p for p in ComF(10,10) if not is_gaussian_prime(p)]\n",
    "X = [x.real for x in C]\n",
    "Y = [x.imag for x in C]\n",
    "\n",
    "W = [x.real for x in D]\n",
    "Z = [x.imag for x in D]\n",
    "plt.scatter(X,Y, color='red')\n",
    "plt.scatter(W,Z, color='blue')\n",
    "plt.show()"
   ]
  },
  {
   "cell_type": "code",
   "execution_count": 10,
   "metadata": {},
   "outputs": [],
   "source": [
    "def comp_fibo(n):\n",
    "    init = [1,1j]\n",
    "    for i in range(n):\n",
    "        u = init[-1]+init[-2]\n",
    "        init.append(u)\n",
    "    return init"
   ]
  },
  {
   "cell_type": "code",
   "execution_count": 11,
   "metadata": {},
   "outputs": [],
   "source": [
    "cf=comp_fibo(20)"
   ]
  },
  {
   "cell_type": "code",
   "execution_count": 12,
   "metadata": {},
   "outputs": [
    {
     "data": {
      "text/plain": [
       "[1,\n",
       " 1j,\n",
       " (1+1j),\n",
       " (1+2j),\n",
       " (2+3j),\n",
       " (3+5j),\n",
       " (5+8j),\n",
       " (8+13j),\n",
       " (13+21j),\n",
       " (21+34j),\n",
       " (34+55j),\n",
       " (55+89j),\n",
       " (89+144j),\n",
       " (144+233j),\n",
       " (233+377j),\n",
       " (377+610j),\n",
       " (610+987j),\n",
       " (987+1597j),\n",
       " (1597+2584j),\n",
       " (2584+4181j),\n",
       " (4181+6765j),\n",
       " (6765+10946j)]"
      ]
     },
     "execution_count": 12,
     "metadata": {},
     "output_type": "execute_result"
    }
   ],
   "source": [
    "cf"
   ]
  },
  {
   "cell_type": "code",
   "execution_count": 13,
   "metadata": {},
   "outputs": [
    {
     "name": "stdout",
     "output_type": "stream",
     "text": [
      "1\n",
      "1\n",
      "2\n",
      "5\n",
      "13\n",
      "34\n",
      "89\n",
      "233\n",
      "610\n",
      "1597\n",
      "4181\n",
      "10946\n",
      "28657\n",
      "75025\n",
      "196418\n",
      "514229\n",
      "1346269\n",
      "3524578\n",
      "9227465\n",
      "24157817\n",
      "63245986\n",
      "165580141\n"
     ]
    }
   ],
   "source": [
    "for n in cf:\n",
    "    print(Norm(n))"
   ]
  },
  {
   "cell_type": "code",
   "execution_count": 14,
   "metadata": {},
   "outputs": [
    {
     "name": "stdout",
     "output_type": "stream",
     "text": [
      "1\n",
      "([], 1)\n",
      "****************************************\n",
      "2\n",
      "([(1+1j), (1+1j)], -1j)\n",
      "****************************************\n",
      "3\n",
      "([3], (1+0j))\n",
      "****************************************\n",
      "5\n",
      "([(2+1j), (2-1j)], (1+0j))\n",
      "****************************************\n",
      "8\n",
      "([(1+1j), (1+1j), (1+1j), (1+1j), (1+1j), (1+1j)], 1j)\n",
      "****************************************\n",
      "13\n",
      "([(3+2j), (3-2j)], (1+0j))\n",
      "****************************************\n",
      "21\n",
      "([3, 7], (1+0j))\n",
      "****************************************\n",
      "34\n",
      "([(1+1j), (1+1j), (1+4j), (1-4j)], (-0-1j))\n",
      "****************************************\n",
      "55\n",
      "([(2+1j), (2-1j), 11], (1+0j))\n",
      "****************************************\n",
      "89\n",
      "([(5+8j), (5-8j)], (1-0j))\n",
      "****************************************\n",
      "144\n",
      "([(1+1j), (1+1j), (1+1j), (1+1j), (1+1j), (1+1j), (1+1j), (1+1j), 3, 3], (1+0j))\n",
      "****************************************\n",
      "233\n",
      "([(8+13j), (8-13j)], (1-0j))\n",
      "****************************************\n",
      "377\n",
      "([(3+2j), (3-2j), (2+5j), (2-5j)], (1-0j))\n",
      "****************************************\n",
      "610\n",
      "([(1+1j), (1+1j), (2+1j), (2-1j), (5+6j), (5-6j)], (-0-1j))\n",
      "****************************************\n",
      "987\n",
      "([3, 7, 47], (1+0j))\n",
      "****************************************\n",
      "1597\n",
      "([(34+21j), (34-21j)], (1+0j))\n",
      "****************************************\n",
      "2584\n",
      "([(1+1j), (1+1j), (1+1j), (1+1j), (1+1j), (1+1j), (1+4j), (1-4j), 19], 1j)\n",
      "****************************************\n",
      "4181\n",
      "([(1+6j), (1-6j), (8+7j), (8-7j)], (1+0j))\n",
      "****************************************\n",
      "6765\n",
      "([3, (2+1j), (2-1j), 11, (4+5j), (4-5j)], (1-0j))\n",
      "****************************************\n",
      "10946\n",
      "([(1+1j), (1+1j), (3+2j), (3-2j), (14+15j), (14-15j)], (-0-1j))\n",
      "****************************************\n"
     ]
    }
   ],
   "source": [
    "for n in Fibonacci(20)[2:]:\n",
    "    \n",
    "    print(n)\n",
    "    print(gp.factor_gaussian(n))\n",
    "    print('****************************************')"
   ]
  },
  {
   "cell_type": "code",
   "execution_count": 15,
   "metadata": {},
   "outputs": [
    {
     "name": "stdout",
     "output_type": "stream",
     "text": [
      "([(1+1j), (1+1j)], -1j) 2\n",
      "([3], (1+0j)) 3\n",
      "([(1+1j), (1+1j), (1+1j), (1+1j)], (-1+0j)) 4\n",
      "([(2+1j), (2-1j)], (1+0j)) 5\n",
      "([7], (1+0j)) 7\n",
      "([11], (1+0j)) 11\n",
      "([(3+2j), (3-2j)], (1+0j)) 13\n",
      "([(1+4j), (1-4j)], (1-0j)) 17\n",
      "([19], (1+0j)) 19\n",
      "([23], (1+0j)) 23\n",
      "([(2+5j), (2-5j)], (1-0j)) 29\n",
      "([31], (1+0j)) 31\n",
      "([(1+6j), (1-6j)], (1-0j)) 37\n",
      "([(4+5j), (4-5j)], (1-0j)) 41\n",
      "([43], (1+0j)) 43\n",
      "([47], (1+0j)) 47\n",
      "([(7+2j), (7-2j)], (1+0j)) 53\n",
      "([59], (1+0j)) 59\n",
      "([(5+6j), (5-6j)], (1-0j)) 61\n",
      "([67], (1+0j)) 67\n",
      "([71], (1+0j)) 71\n",
      "([(8+3j), (8-3j)], (1+0j)) 73\n",
      "([79], (1+0j)) 79\n",
      "([83], (1+0j)) 83\n",
      "([(5+8j), (5-8j)], (1-0j)) 89\n",
      "([(4+9j), (4-9j)], (1-0j)) 97\n"
     ]
    }
   ],
   "source": [
    "for i in range(100)[1:]:\n",
    "    if is_prime(i):\n",
    "        print(gp.factor_gaussian(i),i)"
   ]
  },
  {
   "cell_type": "code",
   "execution_count": 16,
   "metadata": {},
   "outputs": [
    {
     "name": "stdout",
     "output_type": "stream",
     "text": [
      "5 2 1\n",
      "29 5 2\n",
      "194 13 5\n",
      "1325 34 13\n",
      "9077 89 34\n",
      "62210 233 89\n",
      "426389 610 233\n",
      "2922509 1597 610\n",
      "20031170 4181 1597\n"
     ]
    }
   ],
   "source": [
    "fibonacci = Fibonacci(20)\n",
    "for n in range(10)[1:]:\n",
    "    v = Norm(fibonacci[2*n+1])+Norm(fibonacci[2*n-1])\n",
    "    print(v,fibonacci[2*n+1],fibonacci[2*n-1])"
   ]
  },
  {
   "cell_type": "code",
   "execution_count": null,
   "metadata": {},
   "outputs": [],
   "source": []
  }
 ],
 "metadata": {
  "kernelspec": {
   "display_name": "Python 3",
   "language": "python",
   "name": "python3"
  },
  "language_info": {
   "codemirror_mode": {
    "name": "ipython",
    "version": 3
   },
   "file_extension": ".py",
   "mimetype": "text/x-python",
   "name": "python",
   "nbconvert_exporter": "python",
   "pygments_lexer": "ipython3",
   "version": "3.7.4"
  }
 },
 "nbformat": 4,
 "nbformat_minor": 4
}
