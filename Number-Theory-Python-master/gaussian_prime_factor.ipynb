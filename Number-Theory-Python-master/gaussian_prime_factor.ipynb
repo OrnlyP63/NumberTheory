{
 "cells": [
  {
   "cell_type": "code",
   "execution_count": 7,
   "metadata": {},
   "outputs": [],
   "source": [
    "def is_prime(num):\n",
    "    if num > 1:\n",
    "        for i in range(2,num//2):\n",
    "            if (num % i) == 0:\n",
    "                return False\n",
    "                break\n",
    "        else:\n",
    "            return True"
   ]
  },
  {
   "cell_type": "code",
   "execution_count": 8,
   "metadata": {},
   "outputs": [
    {
     "data": {
      "text/plain": [
       "False"
      ]
     },
     "execution_count": 8,
     "metadata": {},
     "output_type": "execute_result"
    }
   ],
   "source": [
    "is_prime(100)"
   ]
  },
  {
   "cell_type": "code",
   "execution_count": 9,
   "metadata": {},
   "outputs": [],
   "source": [
    "def Norm(comp):\n",
    "    return int(comp.real**2 + comp.imag**2)"
   ]
  },
  {
   "cell_type": "code",
   "execution_count": 10,
   "metadata": {},
   "outputs": [
    {
     "data": {
      "text/plain": [
       "101"
      ]
     },
     "execution_count": 10,
     "metadata": {},
     "output_type": "execute_result"
    }
   ],
   "source": [
    "Norm(10+1j)"
   ]
  },
  {
   "cell_type": "code",
   "execution_count": 11,
   "metadata": {},
   "outputs": [],
   "source": [
    "def is_gaussian_prime(comp):\n",
    "    return is_prime(Norm(comp))"
   ]
  },
  {
   "cell_type": "code",
   "execution_count": 12,
   "metadata": {},
   "outputs": [
    {
     "data": {
      "text/plain": [
       "True"
      ]
     },
     "execution_count": 12,
     "metadata": {},
     "output_type": "execute_result"
    }
   ],
   "source": [
    "is_gaussian_prime(-7-2j)"
   ]
  },
  {
   "cell_type": "code",
   "execution_count": 13,
   "metadata": {},
   "outputs": [],
   "source": [
    "import math\n",
    "\n",
    "def complex_eps(c): \n",
    "    return complex(round(c.real, 6), round(c.imag, 6))\n",
    "\n",
    "def floor(c): \n",
    "    real = math.floor(round(c.real, 6))\n",
    "    imag = math.floor(round(c.imag, 6))\n",
    "    return complex(real, imag)\n",
    "\n",
    "def complex_modulus(a, b): \n",
    "    return a - (b * floor(a / b))\n",
    "\n",
    "def gaussian_gcd(a, b): \n",
    "    while b != 0+0j: \n",
    "        a, b = b, complex_modulus(a, b)\n",
    "    return a\n",
    "\n",
    "def modular_exponentiation(base, exponent, modulus):\n",
    "    result = 1\n",
    "    while exponent > 0:\n",
    "        if (int(exponent) & 1) == 1: \n",
    "            result = (result * base) % modulus\n",
    "        exponent=int(exponent)\n",
    "        exponent >>= 1\n",
    "        base = (base ** 2) % modulus\n",
    "    return result\n",
    "\n",
    "def root4(p): \n",
    "   # 4th root of 1 modulo p\n",
    "   # Derived from http://bit.ly/p4ESdk by Robin Chapman\n",
    "    base = 2\n",
    "    pow = p/4\n",
    "    while True:\n",
    "        a = modular_exponentiation(base, pow, p)\n",
    "        modulus = (a ** 2) % p\n",
    "        if modulus == (p - 1): return a\n",
    "        base += 1\n",
    "\n",
    "def sq2(p): \n",
    "    a = root4(p) # 4th root of 1 modulo p\n",
    "    return gaussian_gcd(complex(p, 0), complex(a, 1))\n",
    "\n",
    "def first_quadrant_associate(c): \n",
    "    if c.real >= 0: \n",
    "        if c.imag >= 0: return c # 1st quadrant\n",
    "        return c * 1j # 2nd quadrant\n",
    "    elif c.imag < 0: return -c # 3rd quadrant\n",
    "    return c * -1j # 4th quadrant\n",
    "\n",
    "def factor(n): \n",
    "    if n < 2: return []\n",
    "\n",
    "    if not (n & 1): # faster than n % 2\n",
    "        res = factor(n // 2)\n",
    "        return [2] + res\n",
    "\n",
    "    for i in range(3, int(n ** .5) + 1, 2): \n",
    "        if not (n % i): \n",
    "            res = factor(n // i)\n",
    "            return [i] + res\n",
    "    return [n]\n",
    "\n",
    "def norm(G): \n",
    "    return int(G.real ** 2) + int(G.imag ** 2)\n",
    "\n",
    "def factor_gaussian(G): \n",
    "  # Algorithm from http://bit.ly/pCn9Hm by Jim Lewis\n",
    "    N = norm(G)\n",
    "    primes = factor(N)\n",
    "    if primes == [1]: \n",
    "        return [G], 1\n",
    "\n",
    "    factors = []\n",
    "    while primes: \n",
    "        p = primes[0]\n",
    "\n",
    "        if p == 2: \n",
    "            u = 1 + 1j\n",
    "            if not complex_modulus(G, u): q = u\n",
    "            else: q = 1 - 1j\n",
    "            primes.remove(p)\n",
    "        elif (p % 4) == 3: \n",
    "            q = p\n",
    "            primes.remove(p)\n",
    "            primes.remove(p)\n",
    "        else: \n",
    "            u = sq2(p)\n",
    "            u = first_quadrant_associate(u) # u[0] + (u[1] * 1j))\n",
    "            if not complex_modulus(G, u): q = u\n",
    "            else: q = u.conjugate()\n",
    "            primes.remove(p)\n",
    "\n",
    "        factors.append(q)\n",
    "        G = complex_eps(G/q)\n",
    "    return factors, G\n",
    "\n",
    "def product(numbers): \n",
    "    result = 1\n",
    "    for number in numbers: \n",
    "        result = result * number\n",
    "    return result\n",
    "\n",
    "def divisor_cardinality(factors): \n",
    "    powers = []\n",
    "    unique_factors = set(factors)\n",
    "    for unique_factor in unique_factors: \n",
    "        power = factors.count(unique_factor)\n",
    "    powers.append(power)\n",
    "    return product(power + 1 for power in powers)"
   ]
  },
  {
   "cell_type": "code",
   "execution_count": 14,
   "metadata": {},
   "outputs": [],
   "source": [
    "def fact_com(num):    \n",
    "    fac=factor_gaussian(num)[0]+[factor_gaussian(num)[1]]\n",
    "    return fac"
   ]
  },
  {
   "cell_type": "code",
   "execution_count": 15,
   "metadata": {},
   "outputs": [],
   "source": [
    "def sum_norm(c):\n",
    "    l=fact_com(c)\n",
    "    n=0\n",
    "    for i in l:\n",
    "        n=n+Norm(i)\n",
    "    return n\n",
    "    "
   ]
  },
  {
   "cell_type": "code",
   "execution_count": 16,
   "metadata": {},
   "outputs": [
    {
     "data": {
      "text/plain": [
       "33"
      ]
     },
     "execution_count": 16,
     "metadata": {},
     "output_type": "execute_result"
    }
   ],
   "source": [
    "sum_norm(200)"
   ]
  },
  {
   "cell_type": "code",
   "execution_count": 21,
   "metadata": {},
   "outputs": [
    {
     "data": {
      "text/plain": [
       "[(1+1j), (1+1j), (2+1j), (2-1j), -1j]"
      ]
     },
     "execution_count": 21,
     "metadata": {},
     "output_type": "execute_result"
    }
   ],
   "source": [
    "fact_com(10)"
   ]
  },
  {
   "cell_type": "code",
   "execution_count": 63,
   "metadata": {},
   "outputs": [],
   "source": [
    "import math\n",
    "def vector_gaussian(n):\n",
    "    g = fact_com(n)\n",
    "    import matplotlib.pyplot as plt\n",
    "    fig= plt.figure(figsize=(7,7))\n",
    "    G = sum(g)\n",
    "    u = [i.real for i in g]\n",
    "    v = [i.imag for i in g]\n",
    "    x = [0 for i in range(len(g))]\n",
    "    y = [0 for i in range(len(g))]\n",
    "    if int(math.sqrt(Norm(n)))>=int(math.sqrt(Norm(G))):\n",
    "        d = int(math.sqrt(Norm(n)))\n",
    "    else:\n",
    "        d = int(math.sqrt(Norm(G)))\n",
    "    plt.gca(xlim=[d*(-1),d],ylim=[d*(-1),d])\n",
    "    plt.scatter(n.real,n.imag)\n",
    "    plt.quiver(x,y,u,v,angles='xy',scale_units='xy',scale=1)\n",
    "    plt.quiver(0,0,G.real,G.imag,angles='xy',scale_units='xy',scale=1,color=\"r\")\n",
    "    plt.grid(True)\n",
    "    plt.show()\n",
    "    print(g,G)"
   ]
  },
  {
   "cell_type": "code",
   "execution_count": 66,
   "metadata": {},
   "outputs": [
    {
     "data": {
      "image/png": "[encoded data removed]",
      "text/plain": [
       "<Figure size 504x504 with 1 Axes>"
      ]
     },
     "metadata": {
      "needs_background": "light"
     },
     "output_type": "display_data"
    },
    {
     "name": "stdout",
     "output_type": "stream",
     "text": [
      "[(1+1j), (2+1j), (2+1j), -1j] (5+2j)\n"
     ]
    }
   ],
   "source": [
    "vector_gaussian(7+1j)"
   ]
  },
  {
   "cell_type": "code",
   "execution_count": 67,
   "metadata": {},
   "outputs": [],
   "source": [
    "from ipywidgets import interact, widgets"
   ]
  },
  {
   "cell_type": "code",
   "execution_count": 71,
   "metadata": {},
   "outputs": [
    {
     "data": {
      "application/vnd.jupyter.widget-view+json": {
       "model_id": "ff838c6dcda141fb8e6cbc8dc25cf9e4",
       "version_major": 2,
       "version_minor": 0
      },
      "text/plain": [
       "interactive(children=(IntSlider(value=5, description='n', max=10), Output()), _dom_classes=('widget-interact',…"
      ]
     },
     "metadata": {},
     "output_type": "display_data"
    }
   ],
   "source": [
    "interact(vector_gaussian, n=(0,10,1));"
   ]
  },
  {
   "cell_type": "code",
   "execution_count": null,
   "metadata": {},
   "outputs": [],
   "source": []
  }
 ],
 "metadata": {
  "kernelspec": {
   "display_name": "Python 3",
   "language": "python",
   "name": "python3"
  },
  "language_info": {
   "codemirror_mode": {
    "name": "ipython",
    "version": 3
   },
   "file_extension": ".py",
   "mimetype": "text/x-python",
   "name": "python",
   "nbconvert_exporter": "python",
   "pygments_lexer": "ipython3",
   "version": "3.7.4"
  }
 },
 "nbformat": 4,
 "nbformat_minor": 4
}
