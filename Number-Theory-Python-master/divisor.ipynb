{
 "cells": [
  {
   "cell_type": "code",
   "execution_count": 1,
   "metadata": {},
   "outputs": [],
   "source": [
    "import numpy as np\n",
    "import itertools"
   ]
  },
  {
   "cell_type": "code",
   "execution_count": 6,
   "metadata": {},
   "outputs": [],
   "source": [
    "def Norm(comp):\n",
    "    return int(comp.real**2 + comp.imag**2)"
   ]
  },
  {
   "cell_type": "code",
   "execution_count": 3,
   "metadata": {},
   "outputs": [],
   "source": [
    "def get_divisors(n):\n",
    "    div_l = []\n",
    "    for i in range(1, int(n / 2) + 1):\n",
    "        if n % i == 0:\n",
    "            div_l.append(i)\n",
    "    return div_l+[n]"
   ]
  },
  {
   "cell_type": "code",
   "execution_count": 4,
   "metadata": {},
   "outputs": [
    {
     "data": {
      "text/plain": [
       "[1, 2, 3, 6]"
      ]
     },
     "execution_count": 4,
     "metadata": {},
     "output_type": "execute_result"
    }
   ],
   "source": [
    "get_divisors(6)"
   ]
  },
  {
   "cell_type": "code",
   "execution_count": 5,
   "metadata": {},
   "outputs": [],
   "source": [
    "def snorm(n,a=1):\n",
    "    li=[]\n",
    "    norm = Norm(n)\n",
    "    div_l = get_divisors(norm)\n",
    "    for i in div_l:\n",
    "        li.append(i**a)\n",
    "    \n",
    "    return sum(li)"
   ]
  },
  {
   "cell_type": "code",
   "execution_count": 6,
   "metadata": {},
   "outputs": [],
   "source": [
    "def sigma_norm(n,a,b,c):\n",
    "    li=[]\n",
    "    norm = Norm(n)\n",
    "    div_l = get_divisors(norm)\n",
    "    for i in div_l:\n",
    "        li.append(i**a)\n",
    "    \n",
    "    return sum(li)== b*n+c"
   ]
  },
  {
   "cell_type": "code",
   "execution_count": 7,
   "metadata": {},
   "outputs": [
    {
     "data": {
      "text/plain": [
       "False"
      ]
     },
     "execution_count": 7,
     "metadata": {},
     "output_type": "execute_result"
    }
   ],
   "source": [
    "sigma_norm(1+2j,1,2,3)"
   ]
  },
  {
   "cell_type": "code",
   "execution_count": 8,
   "metadata": {},
   "outputs": [],
   "source": [
    "def ComF(n,m):\n",
    "    Cof = []\n",
    "    for i in range(m):\n",
    "        for j in range(n):\n",
    "            c=i+j*1j\n",
    "            Cof.append(c)\n",
    "    #Cof = np.array(Cof).reshape(n,m)\n",
    "    return Cof"
   ]
  },
  {
   "cell_type": "code",
   "execution_count": 11,
   "metadata": {},
   "outputs": [],
   "source": [
    "def guess(target_fn=None, n_iter = 5, n_sel = 10, n_xover = 10, p_mutate=0.2, n_show=10):\n",
    "    data = [r for r in range(100)]\n",
    "    n_pop = n_sel + n_xover\n",
    "    pop_list = [[np.random.randint(1,10),np.random.randint(1,10),np.random.randint(1,10)] for i in range(n_pop)]\n",
    "    code_size = len(pop_list[0])\n",
    "    i = 0\n",
    "    \n",
    "    while i <= n_iter :\n",
    "        i += 1\n",
    "        pop_pefect_number = []\n",
    "        for p in pop_list:\n",
    "            pl=[i for i in ComF(30,30) if sigma_norm(i,p[0],p[1],p[2])]\n",
    "            pop_pefect_number.append(pl)\n",
    "            \n",
    "        old_gen_perfect_number = sorted([[i,j] for i, j in zip(pop_list,pop_pefect_number)], key=lambda x:len(x[1]))[::-1]\n",
    "        show = [x[1] for x in old_gen_perfect_number]\n",
    "        \n",
    "        old_gen = [x[0] for x in old_gen_perfect_number]\n",
    "        new_gen = old_gen[:n_sel]  \n",
    "        \n",
    "        \n",
    "        for k in range(n_sel, n_pop, 2):\n",
    "            parent = np.random.randint(0, n_sel, 2)\n",
    "            crosspoit = np.random.randint(0,code_size)\n",
    "            offsprint1 = np.concatenate((new_gen[parent[0]][:crosspoit],\n",
    "                                        new_gen[parent[1]][crosspoit:]))\n",
    "            offsprint2 = np.concatenate((new_gen[parent[1]][:crosspoit],\n",
    "                                        new_gen[parent[0]][crosspoit:]))\n",
    "        \n",
    "            new_gen.append(offsprint1.tolist())\n",
    "            new_gen.append(offsprint2.tolist())\n",
    "        \n",
    "        for k in range(n_sel,n_pop):\n",
    "            if np.random.rand()<p_mutate:\n",
    "                mutatepoit = np.random.randint(0,code_size,dtype=np.int)\n",
    "                new_gen[k][mutatepoit] = np.random.choice(data)\n",
    "        pop = new_gen[:n_show]\n",
    "        new_gen.sort()       \n",
    "        new_gen = list(k for k,_ in itertools.groupby(new_gen))\n",
    "        pop_list = new_gen\n",
    "                \n",
    "        if len(pop_list) < n_pop:\n",
    "            newpop = [ [np.random.randint(1,5),np.random.randint(1,10),np.random.randint(-10,10)] for i in range(n_pop-len(pop_list)) ]\n",
    "            pop_list.extend(newpop)\n",
    "                                                                                                               \n",
    "        print(show[:n_show])\n",
    "        print('**********************************************')\n",
    "    return pop"
   ]
  },
  {
   "cell_type": "code",
   "execution_count": 12,
   "metadata": {},
   "outputs": [
    {
     "name": "stdout",
     "output_type": "stream",
     "text": [
      "[[], [], [], [], [], [], [], [], [], []]\n",
      "**********************************************\n",
      "[[0j], [], [], [], [], [], [], [], [], []]\n",
      "**********************************************\n"
     ]
    },
    {
     "name": "stderr",
     "output_type": "stream",
     "text": [
      "C:\\Users\\ideapad 330\\Anaconda3\\lib\\site-packages\\ipykernel_launcher.py:8: RuntimeWarning: overflow encountered in long_scalars\n",
      "  \n"
     ]
    },
    {
     "name": "stdout",
     "output_type": "stream",
     "text": [
      "[[0j], [0j], [], [], [], [], [], [], [], []]\n",
      "**********************************************\n",
      "[[0j], [0j], [0j], [], [], [], [], [], [], []]\n",
      "**********************************************\n",
      "[[0j, (1+0j)], [0j], [0j], [0j], [0j], [], [], [], [], []]\n",
      "**********************************************\n",
      "[[0j, (1+0j)], [0j], [0j], [0j], [0j], [0j], [0j], [(4+0j)], [0j], []]\n",
      "**********************************************\n",
      "[[0j, (1+0j)], [0j], [0j], [0j], [0j], [0j], [0j], [0j], [0j], [0j]]\n",
      "**********************************************\n",
      "[[0j, (1+0j)], [0j], [0j], [0j], [0j], [0j], [0j], [0j], [0j], [0j]]\n",
      "**********************************************\n",
      "[[0j, (1+0j)], [(1+0j)], [0j], [0j], [0j], [0j], [0j], [0j], [0j], [0j]]\n",
      "**********************************************\n",
      "[[0j, (1+0j)], [0j], [0j], [0j], [0j], [0j], [0j], [0j], [0j], [0j]]\n",
      "**********************************************\n",
      "[[0j, (1+0j)], [0j], [0j], [0j], [0j], [0j], [0j], [0j], [0j], [0j]]\n",
      "**********************************************\n",
      "[[0j, (1+0j)], [0j, (1+0j)], [0j, (1+0j)], [0j], [0j], [0j], [0j], [0j], [0j], [0j]]\n",
      "**********************************************\n",
      "[[0j, (1+0j)], [0j, (1+0j)], [0j, (1+0j)], [(4+0j)], [0j], [0j], [0j], [0j], [0j], [0j]]\n",
      "**********************************************\n",
      "[[0j, (1+0j)], [0j, (1+0j)], [0j, (1+0j)], [(2+0j)], [(1+0j)], [0j], [0j], [0j], [0j], [0j]]\n",
      "**********************************************\n",
      "[[0j, (1+0j)], [0j, (1+0j)], [0j, (1+0j)], [0j], [(1+0j)], [0j], [0j], [0j], [0j], [0j]]\n",
      "**********************************************\n",
      "[[0j, (1+0j)], [0j, (1+0j)], [0j, (1+0j)], [(3+0j)], [0j], [0j], [0j], [0j], [0j], [0j]]\n",
      "**********************************************\n",
      "[[0j, (1+0j)], [0j, (1+0j)], [0j, (1+0j)], [0j], [0j], [0j], [0j], [0j], [0j], [0j]]\n",
      "**********************************************\n",
      "[[0j, (1+0j)], [0j, (1+0j)], [0j, (1+0j)], [0j, (1+0j)], [(1+0j)], [(2+0j)], [0j], [0j], [0j], [0j]]\n",
      "**********************************************\n",
      "[[0j, (1+0j)], [0j, (1+0j)], [0j, (1+0j)], [0j, (1+0j)], [0j, (1+0j)], [0j], [0j], [0j], [0j], [0j]]\n",
      "**********************************************\n",
      "[[0j, (1+0j)], [0j, (1+0j)], [0j, (1+0j)], [0j, (1+0j)], [0j, (1+0j)], [0j, (1+0j)], [(2+0j)], [0j], [0j], [0j]]\n",
      "**********************************************\n",
      "[[0j, (1+0j)], [0j, (1+0j)], [0j, (1+0j)], [0j, (1+0j)], [0j, (1+0j)], [0j, (1+0j)], [0j], [0j], [0j], [0j]]\n",
      "**********************************************\n",
      "[[0j, (1+0j)], [0j, (1+0j)], [0j, (1+0j)], [0j, (1+0j)], [0j, (1+0j)], [0j, (1+0j)], [0j, (1+0j)], [0j], [0j], [0j]]\n",
      "**********************************************\n",
      "[[0j, (1+0j)], [0j, (1+0j)], [0j, (1+0j)], [0j, (1+0j)], [0j, (1+0j)], [0j, (1+0j)], [0j, (1+0j)], [(2+0j)], [0j], [0j]]\n",
      "**********************************************\n",
      "[[0j, (1+0j)], [0j, (1+0j)], [0j, (1+0j)], [0j, (1+0j)], [0j, (1+0j)], [0j, (1+0j)], [0j, (1+0j)], [0j], [0j], [0j]]\n",
      "**********************************************\n",
      "[[0j, (1+0j)], [0j, (1+0j)], [0j, (1+0j)], [0j, (1+0j)], [0j, (1+0j)], [0j, (1+0j)], [0j, (1+0j)], [0j, (1+0j)], [0j], [0j]]\n",
      "**********************************************\n",
      "[[0j, (1+0j)], [0j, (1+0j)], [0j, (1+0j)], [0j, (1+0j)], [0j, (1+0j)], [0j, (1+0j)], [0j, (1+0j)], [0j, (1+0j)], [0j, (1+0j)], [(1+0j), (3+0j)]]\n",
      "**********************************************\n",
      "[[0j, (1+0j)], [0j, (1+0j)], [0j, (1+0j)], [0j, (1+0j)], [0j, (1+0j)], [0j, (1+0j)], [0j, (1+0j)], [0j, (1+0j)], [0j, (1+0j)], [0j, (1+0j)]]\n",
      "**********************************************\n",
      "[[0j, (1+0j)], [0j, (1+0j)], [0j, (1+0j)], [0j, (1+0j)], [0j, (1+0j)], [0j, (1+0j)], [0j, (1+0j)], [0j, (1+0j)], [0j, (1+0j)], [0j, (1+0j)]]\n",
      "**********************************************\n",
      "[[0j, (1+0j)], [0j, (1+0j)], [0j, (1+0j)], [0j, (1+0j)], [0j, (1+0j)], [0j, (1+0j)], [0j, (1+0j)], [0j, (1+0j)], [0j, (1+0j)], [0j, (1+0j)]]\n",
      "**********************************************\n",
      "[[0j, (1+0j)], [0j, (1+0j)], [0j, (1+0j)], [0j, (1+0j)], [0j, (1+0j)], [0j, (1+0j)], [0j, (1+0j)], [0j, (1+0j)], [0j, (1+0j)], [0j, (1+0j)]]\n",
      "**********************************************\n",
      "[[0j, (1+0j)], [0j, (1+0j)], [0j, (1+0j)], [0j, (1+0j)], [0j, (1+0j)], [0j, (1+0j)], [0j, (1+0j)], [0j, (1+0j)], [0j, (1+0j)], [0j, (1+0j)]]\n",
      "**********************************************\n",
      "[[0j, (1+0j)], [0j, (1+0j)], [0j, (1+0j)], [0j, (1+0j)], [0j, (1+0j)], [0j, (1+0j)], [0j, (1+0j)], [0j, (1+0j)], [0j, (1+0j)], [0j, (1+0j)]]\n",
      "**********************************************\n",
      "[[0j, (1+0j)], [0j, (1+0j)], [0j, (1+0j)], [0j, (1+0j)], [0j, (1+0j)], [0j, (1+0j)], [0j, (1+0j)], [0j, (1+0j)], [0j, (1+0j)], [0j, (1+0j)]]\n",
      "**********************************************\n",
      "[[0j, (1+0j)], [0j, (1+0j)], [0j, (1+0j)], [0j, (1+0j)], [0j, (1+0j)], [0j, (1+0j)], [0j, (1+0j)], [0j, (1+0j)], [0j, (1+0j)], [0j, (1+0j)]]\n",
      "**********************************************\n",
      "[[0j, (1+0j)], [0j, (1+0j)], [0j, (1+0j)], [0j, (1+0j)], [0j, (1+0j)], [0j, (1+0j)], [0j, (1+0j)], [0j, (1+0j)], [0j, (1+0j)], [0j, (1+0j)]]\n",
      "**********************************************\n",
      "[[0j, (1+0j)], [0j, (1+0j)], [0j, (1+0j)], [0j, (1+0j)], [0j, (1+0j)], [0j, (1+0j)], [0j, (1+0j)], [0j, (1+0j)], [0j, (1+0j)], [0j, (1+0j)]]\n",
      "**********************************************\n",
      "[[0j, (1+0j)], [0j, (1+0j)], [0j, (1+0j)], [0j, (1+0j)], [0j, (1+0j)], [0j, (1+0j)], [0j, (1+0j)], [0j, (1+0j)], [0j, (1+0j)], [0j, (1+0j)]]\n",
      "**********************************************\n",
      "[[0j, (1+0j)], [0j, (1+0j)], [0j, (1+0j)], [0j, (1+0j)], [0j, (1+0j)], [0j, (1+0j)], [0j, (1+0j)], [0j, (1+0j)], [0j, (1+0j)], [0j, (1+0j)]]\n",
      "**********************************************\n",
      "[[0j, (1+0j)], [0j, (1+0j)], [0j, (1+0j)], [0j, (1+0j)], [0j, (1+0j)], [0j, (1+0j)], [0j, (1+0j)], [0j, (1+0j)], [0j, (1+0j)], [0j, (1+0j)]]\n",
      "**********************************************\n"
     ]
    },
    {
     "ename": "OverflowError",
     "evalue": "(34, 'Result too large')",
     "output_type": "error",
     "traceback": [
      "\u001b[1;31m---------------------------------------------------------------------------\u001b[0m",
      "\u001b[1;31mOverflowError\u001b[0m                             Traceback (most recent call last)",
      "\u001b[1;32m<ipython-input-12-9423da53f065>\u001b[0m in \u001b[0;36m<module>\u001b[1;34m\u001b[0m\n\u001b[1;32m----> 1\u001b[1;33m \u001b[0mguess\u001b[0m\u001b[1;33m(\u001b[0m\u001b[0mn_iter\u001b[0m \u001b[1;33m=\u001b[0m \u001b[1;36m500\u001b[0m\u001b[1;33m)\u001b[0m\u001b[1;33m\u001b[0m\u001b[1;33m\u001b[0m\u001b[0m\n\u001b[0m",
      "\u001b[1;32m<ipython-input-11-a2ebfdd073d4>\u001b[0m in \u001b[0;36mguess\u001b[1;34m(target_fn, n_iter, n_sel, n_xover, p_mutate, n_show)\u001b[0m\n\u001b[0;32m     10\u001b[0m         \u001b[0mpop_pefect_number\u001b[0m \u001b[1;33m=\u001b[0m \u001b[1;33m[\u001b[0m\u001b[1;33m]\u001b[0m\u001b[1;33m\u001b[0m\u001b[1;33m\u001b[0m\u001b[0m\n\u001b[0;32m     11\u001b[0m         \u001b[1;32mfor\u001b[0m \u001b[0mp\u001b[0m \u001b[1;32min\u001b[0m \u001b[0mpop_list\u001b[0m\u001b[1;33m:\u001b[0m\u001b[1;33m\u001b[0m\u001b[1;33m\u001b[0m\u001b[0m\n\u001b[1;32m---> 12\u001b[1;33m             \u001b[0mpl\u001b[0m\u001b[1;33m=\u001b[0m\u001b[1;33m[\u001b[0m\u001b[0mi\u001b[0m \u001b[1;32mfor\u001b[0m \u001b[0mi\u001b[0m \u001b[1;32min\u001b[0m \u001b[0mComF\u001b[0m\u001b[1;33m(\u001b[0m\u001b[1;36m30\u001b[0m\u001b[1;33m,\u001b[0m\u001b[1;36m30\u001b[0m\u001b[1;33m)\u001b[0m \u001b[1;32mif\u001b[0m \u001b[0msigma_norm\u001b[0m\u001b[1;33m(\u001b[0m\u001b[0mi\u001b[0m\u001b[1;33m,\u001b[0m\u001b[0mp\u001b[0m\u001b[1;33m[\u001b[0m\u001b[1;36m0\u001b[0m\u001b[1;33m]\u001b[0m\u001b[1;33m,\u001b[0m\u001b[0mp\u001b[0m\u001b[1;33m[\u001b[0m\u001b[1;36m1\u001b[0m\u001b[1;33m]\u001b[0m\u001b[1;33m,\u001b[0m\u001b[0mp\u001b[0m\u001b[1;33m[\u001b[0m\u001b[1;36m2\u001b[0m\u001b[1;33m]\u001b[0m\u001b[1;33m)\u001b[0m\u001b[1;33m]\u001b[0m\u001b[1;33m\u001b[0m\u001b[1;33m\u001b[0m\u001b[0m\n\u001b[0m\u001b[0;32m     13\u001b[0m             \u001b[0mpop_pefect_number\u001b[0m\u001b[1;33m.\u001b[0m\u001b[0mappend\u001b[0m\u001b[1;33m(\u001b[0m\u001b[0mpl\u001b[0m\u001b[1;33m)\u001b[0m\u001b[1;33m\u001b[0m\u001b[1;33m\u001b[0m\u001b[0m\n\u001b[0;32m     14\u001b[0m \u001b[1;33m\u001b[0m\u001b[0m\n",
      "\u001b[1;32m<ipython-input-11-a2ebfdd073d4>\u001b[0m in \u001b[0;36m<listcomp>\u001b[1;34m(.0)\u001b[0m\n\u001b[0;32m     10\u001b[0m         \u001b[0mpop_pefect_number\u001b[0m \u001b[1;33m=\u001b[0m \u001b[1;33m[\u001b[0m\u001b[1;33m]\u001b[0m\u001b[1;33m\u001b[0m\u001b[1;33m\u001b[0m\u001b[0m\n\u001b[0;32m     11\u001b[0m         \u001b[1;32mfor\u001b[0m \u001b[0mp\u001b[0m \u001b[1;32min\u001b[0m \u001b[0mpop_list\u001b[0m\u001b[1;33m:\u001b[0m\u001b[1;33m\u001b[0m\u001b[1;33m\u001b[0m\u001b[0m\n\u001b[1;32m---> 12\u001b[1;33m             \u001b[0mpl\u001b[0m\u001b[1;33m=\u001b[0m\u001b[1;33m[\u001b[0m\u001b[0mi\u001b[0m \u001b[1;32mfor\u001b[0m \u001b[0mi\u001b[0m \u001b[1;32min\u001b[0m \u001b[0mComF\u001b[0m\u001b[1;33m(\u001b[0m\u001b[1;36m30\u001b[0m\u001b[1;33m,\u001b[0m\u001b[1;36m30\u001b[0m\u001b[1;33m)\u001b[0m \u001b[1;32mif\u001b[0m \u001b[0msigma_norm\u001b[0m\u001b[1;33m(\u001b[0m\u001b[0mi\u001b[0m\u001b[1;33m,\u001b[0m\u001b[0mp\u001b[0m\u001b[1;33m[\u001b[0m\u001b[1;36m0\u001b[0m\u001b[1;33m]\u001b[0m\u001b[1;33m,\u001b[0m\u001b[0mp\u001b[0m\u001b[1;33m[\u001b[0m\u001b[1;36m1\u001b[0m\u001b[1;33m]\u001b[0m\u001b[1;33m,\u001b[0m\u001b[0mp\u001b[0m\u001b[1;33m[\u001b[0m\u001b[1;36m2\u001b[0m\u001b[1;33m]\u001b[0m\u001b[1;33m)\u001b[0m\u001b[1;33m]\u001b[0m\u001b[1;33m\u001b[0m\u001b[1;33m\u001b[0m\u001b[0m\n\u001b[0m\u001b[0;32m     13\u001b[0m             \u001b[0mpop_pefect_number\u001b[0m\u001b[1;33m.\u001b[0m\u001b[0mappend\u001b[0m\u001b[1;33m(\u001b[0m\u001b[0mpl\u001b[0m\u001b[1;33m)\u001b[0m\u001b[1;33m\u001b[0m\u001b[1;33m\u001b[0m\u001b[0m\n\u001b[0;32m     14\u001b[0m \u001b[1;33m\u001b[0m\u001b[0m\n",
      "\u001b[1;32m<ipython-input-6-ba273caf2724>\u001b[0m in \u001b[0;36msigma_norm\u001b[1;34m(n, a, b, c)\u001b[0m\n\u001b[0;32m      4\u001b[0m     \u001b[0mdiv_l\u001b[0m \u001b[1;33m=\u001b[0m \u001b[0mget_divisors\u001b[0m\u001b[1;33m(\u001b[0m\u001b[0mnorm\u001b[0m\u001b[1;33m)\u001b[0m\u001b[1;33m\u001b[0m\u001b[1;33m\u001b[0m\u001b[0m\n\u001b[0;32m      5\u001b[0m     \u001b[1;32mfor\u001b[0m \u001b[0mi\u001b[0m \u001b[1;32min\u001b[0m \u001b[0mdiv_l\u001b[0m\u001b[1;33m:\u001b[0m\u001b[1;33m\u001b[0m\u001b[1;33m\u001b[0m\u001b[0m\n\u001b[1;32m----> 6\u001b[1;33m         \u001b[0mli\u001b[0m\u001b[1;33m.\u001b[0m\u001b[0mappend\u001b[0m\u001b[1;33m(\u001b[0m\u001b[0mi\u001b[0m\u001b[1;33m**\u001b[0m\u001b[0ma\u001b[0m\u001b[1;33m)\u001b[0m\u001b[1;33m\u001b[0m\u001b[1;33m\u001b[0m\u001b[0m\n\u001b[0m\u001b[0;32m      7\u001b[0m \u001b[1;33m\u001b[0m\u001b[0m\n\u001b[0;32m      8\u001b[0m     \u001b[1;32mreturn\u001b[0m \u001b[0msum\u001b[0m\u001b[1;33m(\u001b[0m\u001b[0mli\u001b[0m\u001b[1;33m)\u001b[0m\u001b[1;33m==\u001b[0m \u001b[0mb\u001b[0m\u001b[1;33m*\u001b[0m\u001b[0mn\u001b[0m\u001b[1;33m+\u001b[0m\u001b[0mc\u001b[0m\u001b[1;33m\u001b[0m\u001b[1;33m\u001b[0m\u001b[0m\n",
      "\u001b[1;31mOverflowError\u001b[0m: (34, 'Result too large')"
     ]
    }
   ],
   "source": [
    "guess(n_iter = 500)"
   ]
  },
  {
   "cell_type": "code",
   "execution_count": null,
   "metadata": {},
   "outputs": [],
   "source": []
  }
 ],
 "metadata": {
  "kernelspec": {
   "display_name": "Python 3",
   "language": "python",
   "name": "python3"
  },
  "language_info": {
   "codemirror_mode": {
    "name": "ipython",
    "version": 3
   },
   "file_extension": ".py",
   "mimetype": "text/x-python",
   "name": "python",
   "nbconvert_exporter": "python",
   "pygments_lexer": "ipython3",
   "version": "3.7.4"
  }
 },
 "nbformat": 4,
 "nbformat_minor": 4
}
