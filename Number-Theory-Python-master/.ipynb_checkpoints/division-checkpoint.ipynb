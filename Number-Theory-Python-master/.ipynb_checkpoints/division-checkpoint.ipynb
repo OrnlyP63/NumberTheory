{
 "cells": [
  {
   "cell_type": "code",
   "execution_count": 1,
   "metadata": {},
   "outputs": [],
   "source": [
    "import gaussian_prime as gp"
   ]
  },
  {
   "cell_type": "code",
   "execution_count": 2,
   "metadata": {},
   "outputs": [],
   "source": [
    "def ComF(n,m):\n",
    "    Cof = []\n",
    "    for i in range(m):\n",
    "        for j in range(n):\n",
    "            c=i+j*1j\n",
    "            Cof.append(c)\n",
    "    #Cof = np.array(Cof).reshape(n,m)\n",
    "    return Cof"
   ]
  },
  {
   "cell_type": "code",
   "execution_count": 19,
   "metadata": {},
   "outputs": [],
   "source": [
    "def division(G):\n",
    "    #re = int(G.real)\n",
    "    #im = int(G.imag)\n",
    "    l=[]\n",
    "    n = gp.norm(G)\n",
    "    for i in ComF(n,n)[1:]:\n",
    "        if gp.complex_modulus(G,i)==0:\n",
    "            l.append(i)\n",
    "    return l"
   ]
  },
  {
   "cell_type": "code",
   "execution_count": 33,
   "metadata": {},
   "outputs": [
    {
     "name": "stdout",
     "output_type": "stream",
     "text": [
      "1j 0\n",
      "2j (4+4j)\n",
      "3j (4+4j)\n",
      "4j (10+10j)\n",
      "5j (9+9j)\n",
      "6j (16+16j)\n",
      "7j (8+8j)\n",
      "8j (22+22j)\n",
      "9j (13+13j)\n",
      "(1+0j) 0\n",
      "(1+1j) (2+2j)\n",
      "(1+2j) (2+3j)\n",
      "(1+3j) (5+6j)\n",
      "(1+4j) (2+5j)\n",
      "(1+5j) (6+9j)\n",
      "(1+6j) (2+7j)\n",
      "(1+7j) (11+15j)\n",
      "(1+8j) (6+13j)\n",
      "(1+9j) (8+15j)\n",
      "(2+0j) (4+4j)\n",
      "(2+1j) (3+2j)\n",
      "(2+2j) (6+6j)\n",
      "(2+3j) (3+4j)\n",
      "(2+4j) (10+11j)\n",
      "(2+5j) (3+6j)\n",
      "(2+6j) (15+18j)\n",
      "(2+7j) (3+8j)\n",
      "(2+8j) (12+19j)\n",
      "(2+9j) (8+13j)\n",
      "(3+0j) (4+4j)\n",
      "(3+1j) (6+5j)\n",
      "(3+2j) (4+3j)\n",
      "(3+3j) (8+8j)\n",
      "(3+4j) (6+6j)\n",
      "(3+5j) (9+8j)\n",
      "(3+6j) (8+12j)\n",
      "(3+7j) (10+11j)\n",
      "(3+8j) (4+9j)\n",
      "(3+9j) (20+24j)\n",
      "(4+0j) (10+10j)\n",
      "(4+1j) (5+2j)\n",
      "(4+2j) (11+10j)\n",
      "(4+3j) (6+6j)\n",
      "(4+4j) (14+14j)\n",
      "(4+5j) (5+6j)\n",
      "(4+6j) (15+14j)\n",
      "(4+7j) (10+11j)\n",
      "(4+8j) (26+27j)\n",
      "(4+9j) (5+10j)\n",
      "(5+0j) (9+9j)\n",
      "(5+1j) (9+6j)\n",
      "(5+2j) (6+3j)\n",
      "(5+3j) (8+9j)\n",
      "(5+4j) (6+5j)\n",
      "(5+5j) (19+19j)\n",
      "(5+6j) (6+7j)\n",
      "(5+7j) (13+10j)\n",
      "(5+8j) (6+9j)\n",
      "(5+9j) (14+13j)\n",
      "(6+0j) (16+16j)\n",
      "(6+1j) (7+2j)\n",
      "(6+2j) (18+15j)\n",
      "(6+3j) (12+8j)\n",
      "(6+4j) (14+15j)\n",
      "(6+5j) (7+6j)\n",
      "(6+6j) (24+24j)\n",
      "(6+7j) (9+14j)\n",
      "(6+8j) (27+23j)\n",
      "(6+9j) (12+16j)\n",
      "(7+0j) (8+8j)\n",
      "(7+1j) (15+11j)\n",
      "(7+2j) (8+3j)\n",
      "(7+3j) (11+10j)\n",
      "(7+4j) (11+10j)\n",
      "(7+5j) (10+13j)\n",
      "(7+6j) (14+9j)\n",
      "(7+7j) (16+16j)\n",
      "(7+8j) (8+9j)\n",
      "(7+9j) (25+22j)\n",
      "(8+0j) (22+22j)\n",
      "(8+1j) (13+6j)\n",
      "(8+2j) (19+12j)\n",
      "(8+3j) (9+4j)\n",
      "(8+4j) (27+26j)\n",
      "(8+5j) (9+6j)\n",
      "(8+6j) (23+27j)\n",
      "(8+7j) (9+8j)\n",
      "(8+8j) (30+30j)\n",
      "(8+9j) (16+13j)\n",
      "(9+0j) (13+13j)\n",
      "(9+1j) (15+8j)\n",
      "(9+2j) (13+8j)\n",
      "(9+3j) (24+20j)\n",
      "(9+4j) (10+5j)\n",
      "(9+5j) (13+14j)\n",
      "(9+6j) (16+12j)\n",
      "(9+7j) (22+25j)\n",
      "(9+8j) (13+16j)\n",
      "(9+9j) (26+26j)\n"
     ]
    }
   ],
   "source": [
    "n=10\n",
    "for i in ComF(n,n)[1:]:\n",
    "    s = sum(division(i))\n",
    "    print(i, s)"
   ]
  },
  {
   "cell_type": "code",
   "execution_count": 5,
   "metadata": {},
   "outputs": [
    {
     "data": {
      "text/plain": [
       "([(2+1j), (2-1j)], (1+0j))"
      ]
     },
     "execution_count": 5,
     "metadata": {},
     "output_type": "execute_result"
    }
   ],
   "source": [
    "gp.factor_gaussian(5)"
   ]
  },
  {
   "cell_type": "code",
   "execution_count": 6,
   "metadata": {},
   "outputs": [
    {
     "data": {
      "text/plain": [
       "0j"
      ]
     },
     "execution_count": 6,
     "metadata": {},
     "output_type": "execute_result"
    }
   ],
   "source": [
    "gp.complex_modulus(5,1-2j)"
   ]
  },
  {
   "cell_type": "code",
   "execution_count": 14,
   "metadata": {},
   "outputs": [
    {
     "data": {
      "text/plain": [
       "(2-1j)"
      ]
     },
     "execution_count": 14,
     "metadata": {},
     "output_type": "execute_result"
    }
   ],
   "source": [
    "(2+1j).conjugate()"
   ]
  },
  {
   "cell_type": "code",
   "execution_count": null,
   "metadata": {},
   "outputs": [],
   "source": []
  }
 ],
 "metadata": {
  "kernelspec": {
   "display_name": "Python 3",
   "language": "python",
   "name": "python3"
  },
  "language_info": {
   "codemirror_mode": {
    "name": "ipython",
    "version": 3
   },
   "file_extension": ".py",
   "mimetype": "text/x-python",
   "name": "python",
   "nbconvert_exporter": "python",
   "pygments_lexer": "ipython3",
   "version": "3.7.4"
  }
 },
 "nbformat": 4,
 "nbformat_minor": 4
}
