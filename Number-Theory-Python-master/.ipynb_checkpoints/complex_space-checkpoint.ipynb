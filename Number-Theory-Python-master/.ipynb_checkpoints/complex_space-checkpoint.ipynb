{
 "cells": [
  {
   "cell_type": "code",
   "execution_count": 3,
   "metadata": {},
   "outputs": [],
   "source": [
    "import numpy as np"
   ]
  },
  {
   "cell_type": "code",
   "execution_count": 17,
   "metadata": {},
   "outputs": [],
   "source": [
    "def ComF(n,m):\n",
    "    Cof = []\n",
    "    for i in range(m):\n",
    "        for j in range(n):\n",
    "            c=i+j*1j\n",
    "            Cof.append(c)\n",
    "    #Cof = np.array(Cof).reshape(n,m)\n",
    "    return Cof"
   ]
  },
  {
   "cell_type": "code",
   "execution_count": 19,
   "metadata": {},
   "outputs": [
    {
     "data": {
      "text/plain": [
       "[0j,\n",
       " 1j,\n",
       " 2j,\n",
       " 3j,\n",
       " 4j,\n",
       " 5j,\n",
       " 6j,\n",
       " 7j,\n",
       " 8j,\n",
       " 9j,\n",
       " (1+0j),\n",
       " (1+1j),\n",
       " (1+2j),\n",
       " (1+3j),\n",
       " (1+4j),\n",
       " (1+5j),\n",
       " (1+6j),\n",
       " (1+7j),\n",
       " (1+8j),\n",
       " (1+9j),\n",
       " (2+0j),\n",
       " (2+1j),\n",
       " (2+2j),\n",
       " (2+3j),\n",
       " (2+4j),\n",
       " (2+5j),\n",
       " (2+6j),\n",
       " (2+7j),\n",
       " (2+8j),\n",
       " (2+9j),\n",
       " (3+0j),\n",
       " (3+1j),\n",
       " (3+2j),\n",
       " (3+3j),\n",
       " (3+4j),\n",
       " (3+5j),\n",
       " (3+6j),\n",
       " (3+7j),\n",
       " (3+8j),\n",
       " (3+9j),\n",
       " (4+0j),\n",
       " (4+1j),\n",
       " (4+2j),\n",
       " (4+3j),\n",
       " (4+4j),\n",
       " (4+5j),\n",
       " (4+6j),\n",
       " (4+7j),\n",
       " (4+8j),\n",
       " (4+9j),\n",
       " (5+0j),\n",
       " (5+1j),\n",
       " (5+2j),\n",
       " (5+3j),\n",
       " (5+4j),\n",
       " (5+5j),\n",
       " (5+6j),\n",
       " (5+7j),\n",
       " (5+8j),\n",
       " (5+9j),\n",
       " (6+0j),\n",
       " (6+1j),\n",
       " (6+2j),\n",
       " (6+3j),\n",
       " (6+4j),\n",
       " (6+5j),\n",
       " (6+6j),\n",
       " (6+7j),\n",
       " (6+8j),\n",
       " (6+9j),\n",
       " (7+0j),\n",
       " (7+1j),\n",
       " (7+2j),\n",
       " (7+3j),\n",
       " (7+4j),\n",
       " (7+5j),\n",
       " (7+6j),\n",
       " (7+7j),\n",
       " (7+8j),\n",
       " (7+9j),\n",
       " (8+0j),\n",
       " (8+1j),\n",
       " (8+2j),\n",
       " (8+3j),\n",
       " (8+4j),\n",
       " (8+5j),\n",
       " (8+6j),\n",
       " (8+7j),\n",
       " (8+8j),\n",
       " (8+9j),\n",
       " (9+0j),\n",
       " (9+1j),\n",
       " (9+2j),\n",
       " (9+3j),\n",
       " (9+4j),\n",
       " (9+5j),\n",
       " (9+6j),\n",
       " (9+7j),\n",
       " (9+8j),\n",
       " (9+9j)]"
      ]
     },
     "execution_count": 19,
     "metadata": {},
     "output_type": "execute_result"
    }
   ],
   "source": [
    "ComF(10,10)"
   ]
  },
  {
   "cell_type": "code",
   "execution_count": null,
   "metadata": {},
   "outputs": [],
   "source": []
  }
 ],
 "metadata": {
  "kernelspec": {
   "display_name": "Python 3",
   "language": "python",
   "name": "python3"
  },
  "language_info": {
   "codemirror_mode": {
    "name": "ipython",
    "version": 3
   },
   "file_extension": ".py",
   "mimetype": "text/x-python",
   "name": "python",
   "nbconvert_exporter": "python",
   "pygments_lexer": "ipython3",
   "version": "3.7.4"
  }
 },
 "nbformat": 4,
 "nbformat_minor": 4
}
