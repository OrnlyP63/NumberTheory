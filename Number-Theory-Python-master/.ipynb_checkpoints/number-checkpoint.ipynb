{
 "cells": [
  {
   "cell_type": "code",
   "execution_count": 89,
   "metadata": {},
   "outputs": [],
   "source": [
    "class Complex():\n",
    "    \n",
    "        def __init__(self, c=0):\n",
    "            self.c = c\n",
    "            self.real = int(self.c.real)\n",
    "            self.imag = int(self.c.imag)\n",
    "        \n",
    "        #def __init__(self, real = 0, imag = 0):\n",
    "            #self.real = real\n",
    "            #self.imag = imag\n",
    "\n",
    "        def __str__(self):\n",
    "            if self.imag > 0:\n",
    "                return str(self.real) + \"+\" + str(self.imag) + \"i\"\n",
    "            elif self.imag < 0:\n",
    "                return str(self.real) + str(self.imag) + \"i\"\n",
    "            \n",
    "        def divide_floor(self,a,b):\n",
    "            c=a/b\n",
    "            c=int(c.real)+int(c.imag)*1j\n",
    "            return c\n",
    "        \n",
    "        def is_prime(self,num):\n",
    "            if num > 1:\n",
    "                for i in range(2,int(num)):\n",
    "                    if (num % i) == 0:\n",
    "                        return False\n",
    "                        break\n",
    "                else:\n",
    "                    return True\n",
    "            \n",
    "        def is_gaussian_prime(self,comp):\n",
    "            return self.is_prime(self.Norm(comp))\n",
    "            \n",
    "        def gcd(self,a,b):\n",
    "            #q=int(a/b)\n",
    "            q=self.divide_floor(a,b)\n",
    "            r=a-q*b\n",
    "            if r!=0:\n",
    "                return self.gcd(b,r)\n",
    "            else:\n",
    "                return b\n",
    "\n",
    "        def __truediv__(self, other):\n",
    "            j=1j\n",
    "            x = self.real * other.real + self.imag * other.imag\n",
    "            y = self.imag * other.real - self.real * other.imag\n",
    "            z = other.real**2 + other.imag**2\n",
    "            real = x / z\n",
    "            imag = y / z\n",
    "            return real+imag*j\n",
    "        \n",
    "        def norm(self):\n",
    "            res = self.real**2 + self.imag**2\n",
    "            return res\n",
    "        \n",
    "        def Norm(self,a):\n",
    "            res = a.real**2 + a.imag**2\n",
    "            return res\n",
    "        \n",
    "        def factor(self,n):\n",
    "            num = n\n",
    "            div = 2   # the divisor\n",
    "            factors = []  # stores the prime factors\n",
    "\n",
    "            for div in range(div, num):\n",
    "                while num % div == 0: \n",
    "                    factors.append(div)  # adds factor to list\n",
    "                    num /= div   # updates num\n",
    "                else:\n",
    "                    div += 1\n",
    "            return factors\n",
    "        \n",
    "        def factor_norm(self):\n",
    "            return self.factor(self.norm())\n",
    "        \n",
    "        def division(self,a, b):\n",
    "            res = a/b\n",
    "            res_f = self.divide_floor(a,b)\n",
    "    \n",
    "            if  self.Norm(res) == self.Norm(res_f):\n",
    "                return True\n",
    "            else:\n",
    "                return False\n",
    "        \n",
    "        def gaussian_prime(self):\n",
    "            li=[]\n",
    "            G = self.c\n",
    "            s = list(set(self.factor_norm()))\n",
    "            for p in s:\n",
    "                if p==2 :\n",
    "                    q=(1+1j)\n",
    "                elif p%4==3:\n",
    "                    q=p\n",
    "                else :\n",
    "                    n=2\n",
    "                    Finish = False\n",
    "                    while  not Finish:\n",
    "                        d = n**((p-1)/2)\n",
    "                    \n",
    "                        if d%p==4 or (d+1)%p==0:\n",
    "                            k=n**((p-1)/4)\n",
    "                            u=self.gcd(p,k+1j)\n",
    "                            if self.division(G,u) :\n",
    "                                q=u\n",
    "                                Finish=True\n",
    "                            else:\n",
    "                                q=u.conjugate()\n",
    "                                Finish=True\n",
    "                        n+=1\n",
    "                        \n",
    "                        \n",
    "                li.append(q)\n",
    "\n",
    "            return li"
   ]
  },
  {
   "cell_type": "code",
   "execution_count": 90,
   "metadata": {},
   "outputs": [],
   "source": [
    "G = 361 - 1767j"
   ]
  },
  {
   "cell_type": "code",
   "execution_count": 91,
   "metadata": {},
   "outputs": [
    {
     "data": {
      "text/plain": [
       "[(1+1j), (2+1j), (4+1j), 19, (7-2j)]"
      ]
     },
     "execution_count": 91,
     "metadata": {},
     "output_type": "execute_result"
    }
   ],
   "source": [
    "Complex(G).gaussian_prime()"
   ]
  },
  {
   "cell_type": "code",
   "execution_count": 68,
   "metadata": {},
   "outputs": [
    {
     "data": {
      "text/plain": [
       "(361-1767j)"
      ]
     },
     "execution_count": 68,
     "metadata": {},
     "output_type": "execute_result"
    }
   ],
   "source": [
    "(1+1j)*(2+1j)*(4+1j)*19*(-7-2j)"
   ]
  },
  {
   "cell_type": "code",
   "execution_count": 79,
   "metadata": {},
   "outputs": [
    {
     "name": "stdout",
     "output_type": "stream",
     "text": [
      "(-703-1064j)\n",
      "(-209-779j)\n",
      "(-19-437j)\n",
      "(19-93j)\n",
      "(-18.999999999999996-247j)\n"
     ]
    }
   ],
   "source": [
    "for i in [(1+1j), (2+1j), (4+1j), 19, (7+2j)]:\n",
    "    h = (361-1767j)\n",
    "    h=h/i\n",
    "    print(h)"
   ]
  },
  {
   "cell_type": "code",
   "execution_count": 73,
   "metadata": {},
   "outputs": [
    {
     "data": {
      "text/plain": [
       "(1-4.894736842105263j)"
      ]
     },
     "execution_count": 73,
     "metadata": {},
     "output_type": "execute_result"
    }
   ],
   "source": [
    "(19-93j)/19"
   ]
  },
  {
   "cell_type": "code",
   "execution_count": 81,
   "metadata": {},
   "outputs": [
    {
     "data": {
      "text/plain": [
       "(-361+1767j)"
      ]
     },
     "execution_count": 81,
     "metadata": {},
     "output_type": "execute_result"
    }
   ],
   "source": [
    "(1+1j)*(2+1j)*(4+1j)*19*(7+2j)"
   ]
  },
  {
   "cell_type": "code",
   "execution_count": 78,
   "metadata": {},
   "outputs": [
    {
     "data": {
      "text/plain": [
       "False"
      ]
     },
     "execution_count": 78,
     "metadata": {},
     "output_type": "execute_result"
    }
   ],
   "source": [
    "Complex().is_gaussian_prime(19-93j)"
   ]
  },
  {
   "cell_type": "code",
   "execution_count": 88,
   "metadata": {},
   "outputs": [
    {
     "data": {
      "text/plain": [
       "(-1-23j)"
      ]
     },
     "execution_count": 88,
     "metadata": {},
     "output_type": "execute_result"
    }
   ],
   "source": [
    "(19-93j)/(4 + 1j)"
   ]
  },
  {
   "cell_type": "code",
   "execution_count": 84,
   "metadata": {},
   "outputs": [
    {
     "data": {
      "text/plain": [
       "[(19-93j)]"
      ]
     },
     "execution_count": 84,
     "metadata": {},
     "output_type": "execute_result"
    }
   ],
   "source": [
    "[(1 + 1j)*(2 + 1j)*(4 + 1j)*(4 + 1j)*(-1)]"
   ]
  },
  {
   "cell_type": "code",
   "execution_count": 93,
   "metadata": {},
   "outputs": [
    {
     "data": {
      "text/plain": [
       "(-18.999999999999996-247j)"
      ]
     },
     "execution_count": 93,
     "metadata": {},
     "output_type": "execute_result"
    }
   ],
   "source": [
    "G/(7+2j)"
   ]
  },
  {
   "cell_type": "code",
   "execution_count": 96,
   "metadata": {},
   "outputs": [
    {
     "data": {
      "text/plain": [
       "[(1+1j), (2+1j)]"
      ]
     },
     "execution_count": 96,
     "metadata": {},
     "output_type": "execute_result"
    }
   ],
   "source": [
    "Complex(500).gaussian_prime()"
   ]
  },
  {
   "cell_type": "code",
   "execution_count": 97,
   "metadata": {},
   "outputs": [
    {
     "data": {
      "text/plain": [
       "(250-250j)"
      ]
     },
     "execution_count": 97,
     "metadata": {},
     "output_type": "execute_result"
    }
   ],
   "source": [
    "500/(1+1j)"
   ]
  },
  {
   "cell_type": "code",
   "execution_count": 98,
   "metadata": {},
   "outputs": [
    {
     "data": {
      "text/plain": [
       "-250j"
      ]
     },
     "execution_count": 98,
     "metadata": {},
     "output_type": "execute_result"
    }
   ],
   "source": [
    "(250-250j)/(1+1j)"
   ]
  },
  {
   "cell_type": "code",
   "execution_count": 99,
   "metadata": {},
   "outputs": [
    {
     "data": {
      "text/plain": [
       "(-125-125j)"
      ]
     },
     "execution_count": 99,
     "metadata": {},
     "output_type": "execute_result"
    }
   ],
   "source": [
    "-250j/(1+1j)"
   ]
  },
  {
   "cell_type": "code",
   "execution_count": 101,
   "metadata": {},
   "outputs": [
    {
     "data": {
      "text/plain": [
       "(250+0j)"
      ]
     },
     "execution_count": 101,
     "metadata": {},
     "output_type": "execute_result"
    }
   ],
   "source": [
    "(250-250j)/(1-1j)"
   ]
  },
  {
   "cell_type": "code",
   "execution_count": 102,
   "metadata": {},
   "outputs": [
    {
     "data": {
      "text/plain": [
       "[(500+0j)]"
      ]
     },
     "execution_count": 102,
     "metadata": {},
     "output_type": "execute_result"
    }
   ],
   "source": [
    "[(1 + 1j)*(1 - 1j)*(1 + 1j)*(1 - 1j)*(2 + 1j)*(2 - 1j)*(2 + 1j)*(2 - 1j)*(2 + 1j)*(2 - 1j)]"
   ]
  },
  {
   "cell_type": "code",
   "execution_count": null,
   "metadata": {},
   "outputs": [],
   "source": []
  }
 ],
 "metadata": {
  "kernelspec": {
   "display_name": "Python 3",
   "language": "python",
   "name": "python3"
  },
  "language_info": {
   "codemirror_mode": {
    "name": "ipython",
    "version": 3
   },
   "file_extension": ".py",
   "mimetype": "text/x-python",
   "name": "python",
   "nbconvert_exporter": "python",
   "pygments_lexer": "ipython3",
   "version": "3.7.4"
  }
 },
 "nbformat": 4,
 "nbformat_minor": 4
}
